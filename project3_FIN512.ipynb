{
  "cells": [
    {
      "cell_type": "markdown",
      "metadata": {
        "id": "LCLmqHrfbjB5"
      },
      "source": [
        "Choice 7: Contingent Coupon Callable on three stocks (very challenging)\n",
        "https://www.sec.gov/Archives/edgar/data/895421/000183988225015267/ms6936_424b2-07888.htm\n",
        "\n",
        "Key features:\n",
        "1. Multiple underlying assets.\n",
        "2. Contingent coupon feature\n",
        "3. Call feature also – this will require the adaptation of the LSMC method\n",
        "(or equivalent) but only between call dates\n",
        "\n",
        "Data: You will need the risk-free rate in dollars, and the dividend yield and\n",
        "implied volatility for the underlying stocks – you will need three of them.\n",
        "These can be obtained from Bloomberg (see below) and other sources as for\n",
        "Project 1. You will also need to estimate the correlations between the stocks\n",
        "– I would use a simple historical correlation estimate."
      ]
    },
    {
      "cell_type": "markdown",
      "metadata": {
        "id": "LqA4M7HkVAvh"
      },
      "source": [
        "1. Call feature:\n",
        "*   starts from the first redemption date and on redemption dates only.\n",
        "*   payment = principle + contingent coupon\n",
        "*   no payment afterwards\n",
        "\n",
        "2. Contingent coupon 7%\n",
        "*   ≥ 0.7 S_0 on obs_dates for **all** underliers.\n",
        "\n",
        "3. Payment at maturity:\n",
        "If the securities haven't been redeemed:\n",
        "*   VT ≥ 0.6 S_0 for **all** underliers: principle\n",
        "*   VT < 0.6 S_0 for **any** underlyings: principle * performance factor for the worst performing underlier\n",
        "(performance factor = final level / initial level)\n",
        "\n"
      ]
    },
    {
      "cell_type": "markdown",
      "source": [],
      "metadata": {
        "id": "tvjWIyEdRz5h"
      }
    },
    {
      "cell_type": "markdown",
      "metadata": {
        "id": "r3Y5GdkDl-sk"
      },
      "source": [
        "# Data Collection"
      ]
    },
    {
      "cell_type": "code",
      "execution_count": null,
      "metadata": {
        "colab": {
          "base_uri": "https://localhost:8080/"
        },
        "id": "ryRQkqyJbRoC",
        "outputId": "823af463-1432-4ede-ba90-e5c5ccfe82c2"
      },
      "outputs": [
        {
          "output_type": "stream",
          "name": "stdout",
          "text": [
            "21\n",
            "T: 1.7671232876712328\n"
          ]
        }
      ],
      "source": [
        "import pandas as pd\n",
        "import math\n",
        "import numpy as np\n",
        "import matplotlib.pyplot as plt\n",
        "\n",
        "strike_date = pd.to_datetime('2025-12-15')\n",
        "pricing_date = pd.to_datetime('2025-03-10')\n",
        "original_issue_date = pd.to_datetime('2025-03-13')\n",
        "maturity_date = pd.to_datetime('2026-12-15')\n",
        "\n",
        "obs_dates = [\n",
        "    '2025-04-10', '2025-05-12', '2025-06-10', '2025-07-10', '2025-08-11',\n",
        "    '2025-09-10', '2025-10-10', '2025-11-10', '2025-12-10', '2026-01-12',\n",
        "    '2026-02-10', '2026-03-10', '2026-04-10', '2026-05-11', '2026-06-10',\n",
        "    '2026-07-10', '2026-08-10', '2026-09-10', '2026-10-12', '2026-11-10',\n",
        "    '2026-12-10'  # final observation date\n",
        "]\n",
        "\n",
        "coupon_dates = [\n",
        "    '2025-04-15', '2025-05-15', '2025-06-13', '2025-07-15', '2025-08-14',\n",
        "    '2025-09-15', '2025-10-16', '2025-11-14', '2025-12-15', '2026-01-15',\n",
        "    '2026-02-13', '2026-03-13', '2026-04-15', '2026-05-14', '2026-06-15',\n",
        "    '2026-07-15', '2026-08-13', '2026-09-15', '2026-10-15', '2026-11-16',\n",
        "    '2026-12-15'  # maturity date\n",
        "]\n",
        "\n",
        "\n",
        "redemption_dates = ['2025-06-10', '2025-09-10', '2025-12-10', '2026-03-10',\n",
        "    '2026-06-10', '2026-09-10'\n",
        "] # corresponding obs dates of the redemption dates\n",
        "\n",
        "# real_redemption_dates = ['2025-06-13', '2025-09-15', '2025-12-15', '2026-03-13',\n",
        "#     '2026-06-15', '2026-09-15'\n",
        "# ]\n",
        "\n",
        "obs_times = [(pd.to_datetime(d) - pricing_date).days / 365.0 for d in obs_dates]\n",
        "coupon_times = [(pd.to_datetime(d) - pricing_date).days / 365.0 for d in coupon_dates]\n",
        "redemption_times = [(pd.to_datetime(d) - pricing_date).days / 365.0 for d in redemption_dates]\n",
        "obs_coupon = [(c - o) for c,o in zip(coupon_times, obs_times)]\n",
        "print(len(obs_coupon))\n",
        "T = (maturity_date - pricing_date).days / 365.0\n",
        "print(\"T:\", T)"
      ]
    },
    {
      "cell_type": "code",
      "execution_count": null,
      "metadata": {
        "colab": {
          "base_uri": "https://localhost:8080/"
        },
        "id": "GaIBJodS8cPC",
        "outputId": "53ae7085-5528-4ce1-96c3-71d5a7c20151"
      },
      "outputs": [
        {
          "output_type": "stream",
          "name": "stdout",
          "text": [
            "Interpolated discount factor at maturity: 0.935158\n",
            "Continuously compounded zero rate at maturity: 0.037937\n",
            "S0: [5614.56  9548.55  2019.067]\n",
            "q: [0.01327 0.00511 0.01522]\n",
            "sigma: [0.26909 0.24379 0.29079]\n",
            "corr_matrix: [[1.    0.858 0.761]\n",
            " [0.858 1.    0.624]\n",
            " [0.761 0.624 1.   ]]\n"
          ]
        }
      ],
      "source": [
        "date0 = pd.to_datetime('2025-03-10')\n",
        "date1 = pd.to_datetime('2026-09-10')\n",
        "date2 = pd.to_datetime('2027-03-10')\n",
        "date_m = pd.to_datetime('2026-12-15')\n",
        "T = (date_m-date0).days/365.0\n",
        "T1 = (date1-date0).days/365.0\n",
        "T2 = (date2-date0).days/365.0\n",
        "discount1 = 0.943864\n",
        "discount2 = 0.927449\n",
        "\n",
        "discount_m = discount1 + (discount2 - discount1) * ((T - T1) / (T2 - T1))\n",
        "r_maturity = -math.log(discount_m) / T\n",
        "print(f\"Interpolated discount factor at maturity: {discount_m:.6f}\")\n",
        "print(f\"Continuously compounded zero rate at maturity: {r_maturity:.6f}\")\n",
        "\n",
        "# d_yield\n",
        "q_spx = 1.327/100.0\n",
        "q_ndxt = 0.511/100.0\n",
        "q_rty = 1.522/100.0\n",
        "\n",
        "# sigma at maturity ATM\n",
        "sigma_70_atm = np.array([0.26909, 0.24379, 0.29079])\n",
        "sigma = sigma_70_atm\n",
        "\n",
        "# corr _2y\n",
        "corr_spx_ndxt_2y = 0.858\n",
        "corr_spx_rty_2y = 0.761\n",
        "corr_ndxt_rty_2y = 0.624\n",
        "\n",
        "corr_matrix_2y = np.array([\n",
        "    [1.0, corr_spx_ndxt_2y, corr_spx_rty_2y],\n",
        "    [corr_spx_ndxt_2y, 1.0, corr_ndxt_rty_2y],\n",
        "    [corr_spx_rty_2y, corr_ndxt_rty_2y, 1.0]\n",
        "])\n",
        "\n",
        "# S0W\n",
        "S0_spx = 5614.56\n",
        "S0_ndxt = 9548.55\n",
        "S0_rty = 2019.067\n",
        "\n",
        "downside_threshold = 0.6\n",
        "downside_threshold_spx = 0.6 * S0_spx\n",
        "downside_threshold_ndxt = 0.6 * S0_ndxt\n",
        "downside_threshold_rty = 0.6 * S0_rty\n",
        "\n",
        "coupon_barrier = 0.7\n",
        "coupon_barrier_spx = 0.7 * S0_spx\n",
        "coupon_barrier_ndxt = 0.7 * S0_ndxt\n",
        "coupon_barrier_rty = 0.7 * S0_rty\n",
        "\n",
        "S0 = np.array([S0_spx, S0_ndxt, S0_rty])\n",
        "q = np.array([q_spx, q_ndxt, q_rty])\n",
        "\n",
        "print(\"S0:\", S0)\n",
        "print(\"q:\", q)\n",
        "print(\"sigma:\", sigma)\n",
        "print(\"corr_matrix:\", corr_matrix_2y)\n",
        "r = r_maturity\n",
        "principal = 1000.0\n",
        "coupon_rate = 0.07\n",
        "n_paths = 500000  # Adjust based on computational resources\n",
        "coupon_amount = 5.833"
      ]
    },
    {
      "cell_type": "markdown",
      "metadata": {
        "id": "7hJD5C4HmBrO"
      },
      "source": [
        "# Main Model"
      ]
    },
    {
      "cell_type": "code",
      "execution_count": null,
      "metadata": {
        "colab": {
          "base_uri": "https://localhost:8080/"
        },
        "id": "yfcQuhrgZQOb",
        "outputId": "8dc52a1e-4d39-4a4e-f89d-1fe5feeb058f"
      },
      "outputs": [
        {
          "output_type": "stream",
          "name": "stdout",
          "text": [
            "obs_idx:  [np.int64(1), np.int64(2), np.int64(3), np.int64(4), np.int64(5), np.int64(6), np.int64(7), np.int64(8), np.int64(9), np.int64(10), np.int64(11), np.int64(12), np.int64(13), np.int64(14), np.int64(15), np.int64(16), np.int64(17), np.int64(18), np.int64(19), np.int64(20), np.int64(21)]\n",
            "redemption_idx:  [np.int64(3), np.int64(6), np.int64(9), np.int64(12), np.int64(15), np.int64(18)]\n",
            "time_grid:  [0.         0.08493151 0.17260274 0.25205479 0.33424658 0.42191781\n",
            " 0.50410959 0.58630137 0.67123288 0.75342466 0.84383562 0.92328767\n",
            " 1.         1.08493151 1.16986301 1.25205479 1.33424658 1.41917808\n",
            " 1.50410959 1.59178082 1.67123288 1.75342466 1.76712329]\n",
            "n_steps:  23\n",
            "Estimated Note Value: $956.95\n"
          ]
        }
      ],
      "source": [
        "import numpy as np\n",
        "import pandas as pd\n",
        "from numpy.polynomial.laguerre import lagval\n",
        "from numpy.linalg import lstsq\n",
        "import matplotlib.pyplot as plt\n",
        "\n",
        "\n",
        "# Laguerre basis function\n",
        "def laguerre_basis(x, degree):\n",
        "    basis = []\n",
        "    for d in range(degree + 1):\n",
        "        coeffs = [0] * d + [1]\n",
        "        basis.append(lagval(x, coeffs))\n",
        "    return np.column_stack(basis)\n",
        "\n",
        "all_dates = sorted(\n",
        "    list(set([pricing_date.strftime('%Y-%m-%d')] + obs_dates + redemption_dates + [maturity_date.strftime('%Y-%m-%d')]))\n",
        ")\n",
        "times = [(pd.to_datetime(d) - pricing_date).days / 365 for d in all_dates]\n",
        "time_grid = np.sort(np.unique(times))\n",
        "obs_idx = [np.where(time_grid == t)[0][0] for t in obs_times]\n",
        "redemption_idx = [np.where(time_grid == t)[0][0] for t in redemption_times]\n",
        "print(\"obs_idx: \", obs_idx)\n",
        "print(\"redemption_idx: \", redemption_idx)\n",
        "print(\"time_grid: \", time_grid)\n",
        "print(\"n_steps: \", len(time_grid))\n",
        "\n",
        "np.random.seed(42)\n",
        "def estimate_pv(\n",
        "    n_paths, S0, q, sigma, corr_matrix, r,\n",
        "    principal, coupon_amount, coupon_barrier,\n",
        "    obs_dates, redemption_dates, maturity_date, pricing_date, obs_coupon\n",
        "):\n",
        "\n",
        "    # Prepare time grids\n",
        "    all_dates = sorted(list(set([pricing_date.strftime('%Y-%m-%d')] + obs_dates + redemption_dates + [maturity_date.strftime('%Y-%m-%d')])))\n",
        "    times = [(pd.to_datetime(d) - pricing_date).days / 365.0 for d in all_dates]\n",
        "    time_grid = np.sort(np.unique(times))\n",
        "    obs_times = [(pd.to_datetime(d) - pricing_date).days / 365.0 for d in obs_dates]\n",
        "    redemption_times = [(pd.to_datetime(d) - pricing_date).days / 365.0 for d in redemption_dates]\n",
        "    obs_idx = [np.where(time_grid == t)[0][0] for t in obs_times]\n",
        "    redemption_idx = [np.where(time_grid == t)[0][0] for t in redemption_times]\n",
        "\n",
        "    L = np.linalg.cholesky(corr_matrix)\n",
        "    n_steps = len(time_grid)\n",
        "    paths = np.zeros((n_paths, n_steps, len(S0)))\n",
        "    paths[:, 0, :] = S0[np.newaxis, :]\n",
        "\n",
        "    for i in range(1, n_steps):\n",
        "        t = time_grid[i] - time_grid[i-1]\n",
        "        Z = np.random.normal(size=(n_paths, len(S0)))\n",
        "        Z_correlated = Z.dot(L.T)\n",
        "        drift = (r - q - 0.5 * sigma**2) * t\n",
        "        diffusion = sigma * np.sqrt(t) * Z_correlated\n",
        "        paths[:, i, :] = paths[:, i-1, :] * np.exp(drift + diffusion)\n",
        "\n",
        "    V = np.zeros((n_paths, n_steps))\n",
        "\n",
        "    final_prices = paths[:, -1, :]\n",
        "    worst_final = np.min(final_prices / S0, axis=1)\n",
        "    V[:, -1] = np.where(worst_final >= 0.6, principal, principal * worst_final)\n",
        "\n",
        "    for step in range(n_steps - 2, -1, -1):\n",
        "        V[:, step] = np.exp(-r * (time_grid[step+1] - time_grid[step])) * V[:, step+1]\n",
        "\n",
        "        if step in redemption_idx:\n",
        "            X = paths[:, step, :] / S0\n",
        "            L0 = laguerre_basis(X[:, 0], degree=2)\n",
        "            L1 = laguerre_basis(X[:, 1], degree=2)\n",
        "            L2 = laguerre_basis(X[:, 2], degree=2)\n",
        "            B = np.column_stack([\n",
        "                np.ones(X.shape[0]), L0, L1, L2,\n",
        "                L0[:, 1:] * L1[:, 1:], L0[:, 1:] * L2[:, 1:], L1[:, 1:] * L2[:, 1:]\n",
        "            ])\n",
        "            cont_val = np.exp(-r * (time_grid[step+1] - time_grid[step])) * V[:, step+1]\n",
        "            beta, *_ = lstsq(B, cont_val, rcond=None)\n",
        "            predicted = B @ beta\n",
        "            immediate_pay = np.full(X.shape[0], principal)\n",
        "            exercise = immediate_pay < predicted\n",
        "            if step in obs_idx:\n",
        "                coupon_paid = (paths[:, step, :] >= coupon_barrier * S0).all(axis=1)\n",
        "                immediate_pay += coupon_paid * coupon_amount * np.exp(-r * obs_coupon[step-1])\n",
        "            ex_idx = np.where(exercise)[0]\n",
        "            V[ex_idx, step] = immediate_pay[exercise]\n",
        "\n",
        "        if step in obs_idx:\n",
        "            coupon_cond = (paths[:, step, :] >= coupon_barrier * S0).all(axis=1)\n",
        "            V[coupon_cond, step] += coupon_amount * np.exp(-r * obs_coupon[step-1])\n",
        "\n",
        "    return np.mean(V[:, 0])\n",
        "\n",
        "np.random.seed(42)\n",
        "n_paths = 500000\n",
        "pv = estimate_pv(\n",
        "    n_paths=500000,\n",
        "    S0=S0,\n",
        "    q=q,\n",
        "    sigma=sigma_70_atm,\n",
        "    corr_matrix=corr_matrix_2y,\n",
        "    r=r,\n",
        "    principal=1000.0,\n",
        "    coupon_amount=5.833,\n",
        "    coupon_barrier=0.7,\n",
        "    obs_dates=obs_dates,\n",
        "    redemption_dates=redemption_dates,\n",
        "    maturity_date=maturity_date,\n",
        "    pricing_date=pricing_date,\n",
        "    obs_coupon=obs_coupon\n",
        ")\n",
        "\n",
        "print(f\"Estimated Note Value: ${pv:.2f}\")"
      ]
    },
    {
      "cell_type": "markdown",
      "metadata": {
        "id": "qEOoVre17ob9"
      },
      "source": [
        "# Histgram of Monte Carlo Randomness"
      ]
    },
    {
      "cell_type": "code",
      "execution_count": null,
      "metadata": {
        "colab": {
          "background_save": true
        },
        "id": "6kXg2Rw75dF7",
        "outputId": "bcd57b54-9ca2-42bd-ad02-f6099e6bb463"
      },
      "outputs": [
        {
          "name": "stdout",
          "output_type": "stream",
          "text": [
            "Mean estimated PV: 957.1898\n",
            "Standard deviation of PV: 0.276295\n"
          ]
        },
        {
          "data": {
            "image/png": "[encoded data removed]",
            "text/plain": [
              "<Figure size 800x500 with 1 Axes>"
            ]
          },
          "metadata": {},
          "output_type": "display_data"
        }
      ],
      "source": [
        "n_runs = 500   # how many times to repeat full MC\n",
        "\n",
        "results = []\n",
        "\n",
        "for seed in range(n_runs):\n",
        "    np.random.seed(seed)\n",
        "    pv = estimate_pv(\n",
        "    n_paths=500000,\n",
        "    S0=S0,\n",
        "    q=q,\n",
        "    sigma=sigma_70_atm,\n",
        "    corr_matrix=corr_matrix_2y,\n",
        "    r=r,\n",
        "    principal=1000.0,\n",
        "    coupon_amount=5.833,\n",
        "    coupon_barrier=0.7,\n",
        "    obs_dates=obs_dates,\n",
        "    redemption_dates=redemption_dates,\n",
        "    maturity_date=maturity_date,\n",
        "    pricing_date=pricing_date,\n",
        "    obs_coupon=obs_coupon\n",
        ")\n",
        "    results.append(pv)\n",
        "\n",
        "results = np.array(results)\n",
        "mean_estimate = np.mean(results)\n",
        "std_estimate = np.std(results)\n",
        "\n",
        "print(f\"Mean estimated PV: {mean_estimate:.4f}\")\n",
        "print(f\"Standard deviation of PV: {std_estimate:.6f}\")\n",
        "\n",
        "# Plot histogram\n",
        "plt.figure(figsize=(8, 5))\n",
        "plt.hist(results, bins=20, edgecolor='black', alpha=0.7)\n",
        "plt.title('Monte Carlo Estimate Distribution (500 runs)')\n",
        "plt.xlabel('Estimated Fair Value')\n",
        "plt.ylabel('Frequency')\n",
        "plt.grid(True)\n",
        "plt.show()"
      ]
    },
    {
      "cell_type": "code",
      "source": [
        "1.96*0.276295"
      ],
      "metadata": {
        "colab": {
          "base_uri": "https://localhost:8080/"
        },
        "id": "PZA9k4CkNBV3",
        "outputId": "2fbd32f5-8667-4c8c-f166-270f3320c739"
      },
      "execution_count": null,
      "outputs": [
        {
          "output_type": "execute_result",
          "data": {
            "text/plain": [
              "0.5415382"
            ]
          },
          "metadata": {},
          "execution_count": 7
        }
      ]
    },
    {
      "cell_type": "markdown",
      "metadata": {
        "id": "6fmJc7Sel5pR"
      },
      "source": [
        "# Vol Analysis"
      ]
    },
    {
      "cell_type": "code",
      "execution_count": null,
      "metadata": {
        "colab": {
          "base_uri": "https://localhost:8080/"
        },
        "id": "HV6AxIirhDK6",
        "outputId": "51091705-ee7f-4087-a9aa-1208a8ac2d3a"
      },
      "outputs": [
        {
          "output_type": "execute_result",
          "data": {
            "text/plain": [
              "{'sigma_55_atm': np.float64(921.45),\n",
              " 'sigma_60_atm': np.float64(934.85),\n",
              " 'sigma_70_atm': np.float64(956.95),\n",
              " 'sigma_85_atm': np.float64(979.33),\n",
              " 'sigma_100_atm': np.float64(988.88),\n",
              " 'sigma_110_atm': np.float64(992.57)}"
            ]
          },
          "metadata": {},
          "execution_count": 4
        }
      ],
      "source": [
        "import numpy as np\n",
        "sigma_55_atm = np.array([0.31961, 0.24379, 0.33718])\n",
        "sigma_60_atm = np.array([0.30024, 0.24379, 0.32121])\n",
        "sigma_70_atm = np.array([0.26909, 0.24379, 0.29079])\n",
        "sigma_85_atm = np.array([0.22785, 0.24379, 0.25412])\n",
        "sigma_100_atm = np.array([0.19344, 0.24379, 0.23453])\n",
        "sigma_110_atm = np.array([0.17082, 0.24379, 0.22384])\n",
        "\n",
        "valuation_results = {}\n",
        "sigma_dict = {\n",
        "    \"sigma_55_atm\": sigma_55_atm,\n",
        "    \"sigma_60_atm\": sigma_60_atm,\n",
        "    \"sigma_70_atm\": sigma_70_atm,\n",
        "    \"sigma_85_atm\": sigma_85_atm,\n",
        "    \"sigma_100_atm\": sigma_100_atm,\n",
        "    \"sigma_110_atm\": sigma_110_atm,\n",
        "}\n",
        "\n",
        "for name, sigma_set in sigma_dict.items():\n",
        "    np.random.seed(42)\n",
        "    pv = estimate_pv(\n",
        "        n_paths=500000,\n",
        "        S0=S0,\n",
        "        q=q,\n",
        "        sigma=sigma_set,\n",
        "        corr_matrix=corr_matrix_2y,\n",
        "        r=r,\n",
        "        principal=principal,\n",
        "        coupon_amount=coupon_amount,\n",
        "        coupon_barrier=coupon_barrier,\n",
        "        obs_dates=obs_dates,\n",
        "        redemption_dates=redemption_dates,\n",
        "        maturity_date=maturity_date,\n",
        "        pricing_date=pricing_date,\n",
        "        obs_coupon=obs_coupon\n",
        "    )\n",
        "    valuation_results[name] = round(pv, 2)\n",
        "\n",
        "# Display results\n",
        "valuation_results"
      ]
    },
    {
      "cell_type": "markdown",
      "metadata": {
        "id": "XZkz7HH0mM4C"
      },
      "source": [
        "# Correlation Analysis"
      ]
    },
    {
      "cell_type": "code",
      "execution_count": null,
      "metadata": {
        "colab": {
          "base_uri": "https://localhost:8080/"
        },
        "id": "CBVM1QRE7Ah2",
        "outputId": "eeebd361-03ef-4c15-d05f-04fa531bfb7e"
      },
      "outputs": [
        {
          "output_type": "execute_result",
          "data": {
            "text/plain": [
              "{'corr_1y': np.float64(958.72),\n",
              " 'corr_1_5y': np.float64(960.43),\n",
              " 'corr_2y': np.float64(956.95)}"
            ]
          },
          "metadata": {},
          "execution_count": 5
        }
      ],
      "source": [
        "# corr _2y\n",
        "corr_spx_ndxt_2y = 0.858\n",
        "corr_spx_rty_2y = 0.761\n",
        "corr_ndxt_rty_2y = 0.624\n",
        "\n",
        "# corr_1.5y\n",
        "corr_spx_ndxt_1_5y = 0.868\n",
        "corr_spx_rty_1_5y = 0.823\n",
        "corr_ndxt_rty_1_5y = 0.689\n",
        "\n",
        "# corr _1y\n",
        "corr_spx_ndxt_1y = 0.884\n",
        "corr_spx_rty_1y = 0.777\n",
        "corr_ndxt_rty_1y = 0.665\n",
        "\n",
        "corr_matrix_2y = np.array([\n",
        "    [1.0, corr_spx_ndxt_2y, corr_spx_rty_2y],\n",
        "    [corr_spx_ndxt_2y, 1.0, corr_ndxt_rty_2y],\n",
        "    [corr_spx_rty_2y, corr_ndxt_rty_2y, 1.0]\n",
        "])\n",
        "\n",
        "corr_matrix_1_5y = np.array([\n",
        "    [1.0, corr_spx_ndxt_1_5y, corr_spx_rty_1_5y],\n",
        "    [corr_spx_ndxt_1_5y, 1.0, corr_ndxt_rty_1_5y],\n",
        "    [corr_spx_rty_1_5y, corr_ndxt_rty_1_5y, 1.0]\n",
        "])\n",
        "\n",
        "corr_matrix_1y = np.array([\n",
        "    [1.0, corr_spx_ndxt_1y, corr_spx_rty_1y],\n",
        "    [corr_spx_ndxt_1y, 1.0, corr_ndxt_rty_1y],\n",
        "    [corr_spx_rty_1y, corr_ndxt_rty_1y, 1.0]\n",
        "])\n",
        "sigma = sigma_70_atm---\n",
        "valuation_results = {}\n",
        "corr_dict = {\n",
        "    \"corr_1y\": corr_matrix_1y,\n",
        "    \"corr_1_5y\": corr_matrix_1_5y,\n",
        "    \"corr_2y\": corr_matrix_2y\n",
        "}\n",
        "\n",
        "for name, corr_set in corr_dict.items():\n",
        "    np.random.seed(42)\n",
        "    pv = estimate_pv(\n",
        "        n_paths=500000,\n",
        "        S0=S0,\n",
        "        q=q,\n",
        "        sigma=sigma,\n",
        "        corr_matrix=corr_set,\n",
        "        r=r,\n",
        "        principal=principal,\n",
        "        coupon_amount=coupon_amount,\n",
        "        coupon_barrier=coupon_barrier,\n",
        "        obs_dates=obs_dates,\n",
        "        redemption_dates=redemption_dates,\n",
        "        maturity_date=maturity_date,\n",
        "        pricing_date=pricing_date,\n",
        "        obs_coupon=obs_coupon\n",
        "    )\n",
        "    valuation_results[name] = round(pv, 2)\n",
        "\n",
        "valuation_results"
      ]
    },
    {
      "cell_type": "markdown",
      "metadata": {
        "id": "_BXhHypw8D5C"
      },
      "source": [
        "# Sensitivity analysis-- Overall"
      ]
    },
    {
      "cell_type": "code",
      "execution_count": null,
      "metadata": {
        "colab": {
          "base_uri": "https://localhost:8080/",
          "height": 750
        },
        "id": "6wn0GypQfZc0",
        "outputId": "aa8624fc-b525-4426-9d11-e15bcd8c18c7"
      },
      "outputs": [
        {
          "output_type": "stream",
          "name": "stdout",
          "text": [
            "\n",
            "Base PV  : 956.9498\n",
            "\n",
            "\n",
            "--- Sensitivity Table (per unit change) ---\n",
            "          Metric  Sensitivity\n",
            "       Delta_SPX     0.000000\n",
            "      Delta_NDXT     0.000000\n",
            "       Delta_RTY     0.000000\n",
            "        Vega_SPX  -267.642423\n",
            "       Vega_NDXT  -187.042049\n",
            "        Vega_RTY  -419.782247\n",
            "             Rho  -488.901012\n",
            "Corr_sensitivity   111.656556\n"
          ]
        },
        {
          "output_type": "display_data",
          "data": {
            "text/plain": [
              "<Figure size 800x500 with 1 Axes>"
            ],
            "image/png": "[encoded data removed]"
          },
          "metadata": {}
        }
      ],
      "source": [
        "import numpy as np\n",
        "import pandas as pd\n",
        "\n",
        "N_SENS    = 500_000\n",
        "SHIFT_S0   = 0.01\n",
        "SHIFT_SIG  = 0.01\n",
        "SHIFT_R    = 0.0025\n",
        "SHIFT_CORR = 0.05\n",
        "\n",
        "def pv_wrapper(\n",
        "    S0, sigma, corr_matrix, r\n",
        "):\n",
        "    return estimate_pv(\n",
        "        n_paths=N_SENS,\n",
        "        S0=S0,\n",
        "        q=q,\n",
        "        sigma=sigma,\n",
        "        corr_matrix=corr_matrix,\n",
        "        r=r,\n",
        "        principal=principal,\n",
        "        coupon_amount=coupon_amount,\n",
        "        coupon_barrier=coupon_barrier,\n",
        "        obs_dates=obs_dates,\n",
        "        redemption_dates=redemption_dates,\n",
        "        maturity_date=maturity_date,\n",
        "        pricing_date=pricing_date,\n",
        "        obs_coupon=obs_coupon\n",
        "    )\n",
        "\n",
        "np.random.seed(42)\n",
        "base_pv = pv_wrapper(S0=S0, sigma=sigma_70_atm, corr_matrix=corr_matrix_2y, r=r)\n",
        "print(f\"\\nBase PV  : {base_pv:.4f}\\n\")\n",
        "\n",
        "results = []\n",
        "\n",
        "# DELTAS\n",
        "orig_S0 = S0.copy()\n",
        "for i, name in enumerate(['SPX', 'NDXT', 'RTY']):\n",
        "    S0[i] = orig_S0[i] * (1 + SHIFT_S0)\n",
        "    np.random.seed(42)\n",
        "    pv_up = pv_wrapper(S0=S0, sigma=sigma_70_atm, corr_matrix=corr_matrix_2y, r=r)\n",
        "    delta = (pv_up - base_pv) / (orig_S0[i] * SHIFT_S0)\n",
        "    results.append((f'Delta_{name}', delta))\n",
        "    S0[i] = orig_S0[i]  # reset\n",
        "\n",
        "# VEGAS\n",
        "orig_sigma = sigma_70_atm.copy()\n",
        "for i, name in enumerate(['SPX', 'NDXT', 'RTY']):\n",
        "    sigma_70_atm[i] = orig_sigma[i] * (1 + SHIFT_SIG)\n",
        "    np.random.seed(42)\n",
        "    pv_up = pv_wrapper(S0=S0, sigma=sigma_70_atm, corr_matrix=corr_matrix_2y, r=r)\n",
        "    vega = (pv_up - base_pv) / (orig_sigma[i] * SHIFT_SIG)\n",
        "    results.append((f'Vega_{name}', vega))\n",
        "    sigma_70_atm[i] = orig_sigma[i]  # reset\n",
        "\n",
        "# RHO\n",
        "orig_r = r\n",
        "r = orig_r + SHIFT_R\n",
        "np.random.seed(42)\n",
        "pv_up = pv_wrapper(S0=S0, sigma=sigma_70_atm, corr_matrix=corr_matrix_2y, r=r)\n",
        "rho = (pv_up - base_pv) / SHIFT_R\n",
        "results.append(('Rho', rho))\n",
        "r = orig_r  # reset\n",
        "\n",
        "# Correlation sensitivity\n",
        "orig_corr = corr_matrix_2y.copy()\n",
        "bump = np.full(orig_corr.shape, SHIFT_CORR)\n",
        "np.fill_diagonal(bump, 0.0)\n",
        "corr_matrix_2y[:] = np.clip(orig_corr + bump, -0.99, 0.99)\n",
        "np.random.seed(42)\n",
        "pv_up = pv_wrapper(S0=S0, sigma=sigma_70_atm, corr_matrix=corr_matrix_2y, r=r)\n",
        "corr_sen = (pv_up - base_pv) / SHIFT_CORR\n",
        "results.append(('Corr_sensitivity', corr_sen))\n",
        "corr_matrix_2y[:] = orig_corr  # reset\n",
        "\n",
        "sens_df = pd.DataFrame(results, columns=['Metric', 'Sensitivity'])\n",
        "print(\"\\n--- Sensitivity Table (per unit change) ---\")\n",
        "print(sens_df.to_string(index=False))\n",
        "\n",
        "import matplotlib.pyplot as plt\n",
        "\n",
        "plt.figure(figsize=(8, 5))\n",
        "plt.barh(sens_df['Metric'], sens_df['Sensitivity'])\n",
        "plt.xlabel('Sensitivity per unit bump')\n",
        "plt.title('Note Sensitivities')\n",
        "plt.tight_layout()\n",
        "plt.show()"
      ]
    },
    {
      "cell_type": "markdown",
      "metadata": {
        "id": "CDhbwP5g6t9d"
      },
      "source": [
        "## Antithetic Variate"
      ]
    },
    {
      "cell_type": "code",
      "execution_count": null,
      "metadata": {
        "colab": {
          "base_uri": "https://localhost:8080/"
        },
        "id": "kCrXYOxe6tSK",
        "outputId": "31d37013-01c7-4d19-bb29-29fc76f491b7"
      },
      "outputs": [
        {
          "name": "stdout",
          "output_type": "stream",
          "text": [
            "Estimated Note Value: $953.48\n"
          ]
        }
      ],
      "source": [
        "def estimate_pv_antithetic(\n",
        "    n_paths, S0, q, sigma, corr_matrix, r,\n",
        "    principal, coupon_amount, coupon_barrier,\n",
        "    obs_dates, redemption_dates, maturity_date, pricing_date\n",
        "):\n",
        "    np.random.seed(42)\n",
        "\n",
        "    # Prepare time grids\n",
        "    all_dates = sorted(list(set([pricing_date.strftime('%Y-%m-%d')] + obs_dates + redemption_dates + [maturity_date.strftime('%Y-%m-%d')])))\n",
        "    times = [(pd.to_datetime(d) - pricing_date).days / 365.0 for d in all_dates]\n",
        "    time_grid = np.sort(np.unique(times))\n",
        "    obs_times = [(pd.to_datetime(d) - pricing_date).days / 365.0 for d in obs_dates]\n",
        "    redemption_times = [(pd.to_datetime(d) - pricing_date).days / 365.0 for d in redemption_dates]\n",
        "    obs_idx = [np.where(time_grid == t)[0][0] for t in obs_times]\n",
        "    redemption_idx = [np.where(time_grid == t)[0][0] for t in redemption_times]\n",
        "\n",
        "    L = np.linalg.cholesky(corr_matrix)\n",
        "    n_steps = len(time_grid)\n",
        "    n_paths_half = n_paths // 2\n",
        "    paths = np.zeros((n_paths, n_steps, len(S0)))\n",
        "    paths[:, 0, :] = S0[np.newaxis, :]\n",
        "\n",
        "    for i in range(1, n_steps):\n",
        "        t = time_grid[i] - time_grid[i-1]\n",
        "        Z = np.random.normal(size=(n_paths_half, len(S0)))\n",
        "        Z_antithetic = -Z\n",
        "        Z_full = np.vstack((Z, Z_antithetic))\n",
        "        Z_correlated = Z_full.dot(L.T)\n",
        "        drift = (r - q - 0.5 * sigma**2) * t\n",
        "        diffusion = sigma * np.sqrt(t) * Z_correlated\n",
        "        paths[:, i, :] = paths[:, i-1, :] * np.exp(drift + diffusion)\n",
        "\n",
        "    V = np.zeros((n_paths, n_steps))\n",
        "    called = np.zeros(n_paths, dtype=bool)\n",
        "\n",
        "    final_prices = paths[:, -1, :]\n",
        "    worst_final = np.min(final_prices / S0, axis=1)\n",
        "    V[:, -1] = np.where(worst_final >= 0.6, principal, principal * worst_final)\n",
        "\n",
        "    for step in range(n_steps - 2, -1, -1):\n",
        "        V[:, step] = np.exp(-r * (time_grid[step+1] - time_grid[step])) * V[:, step+1]\n",
        "\n",
        "        if step in redemption_idx:\n",
        "            eligible = (paths[:, step, :] >= S0).all(axis=1) & (~called)\n",
        "            X = paths[eligible, step, :] / S0\n",
        "            L0 = laguerre_basis(X[:, 0], degree=2)\n",
        "            L1 = laguerre_basis(X[:, 1], degree=2)\n",
        "            L2 = laguerre_basis(X[:, 2], degree=2)\n",
        "            B = np.column_stack([\n",
        "                np.ones(X.shape[0]), L0, L1, L2,\n",
        "                L0[:, 1:] * L1[:, 1:], L0[:, 1:] * L2[:, 1:], L1[:, 1:] * L2[:, 1:]\n",
        "            ])\n",
        "            cont_val = np.exp(-r * (time_grid[step+1] - time_grid[step])) * V[eligible, step+1]\n",
        "            beta, *_ = lstsq(B, cont_val, rcond=None)\n",
        "            predicted = B @ beta\n",
        "            immediate_pay = np.full(X.shape[0], principal)\n",
        "            exercise = immediate_pay < predicted\n",
        "            if step in obs_idx:\n",
        "                coupon_paid = (paths[eligible, step, :] >= coupon_barrier * S0).all(axis=1)\n",
        "                immediate_pay += coupon_paid * coupon_amount\n",
        "            ex_idx = np.where(eligible)[0][exercise]\n",
        "            V[ex_idx, step] = immediate_pay[exercise]\n",
        "            called[ex_idx] = True\n",
        "\n",
        "        if step in obs_idx:\n",
        "            coupon_cond = (paths[:, step, :] >= coupon_barrier * S0).all(axis=1)\n",
        "            V[coupon_cond & ~called, step] += coupon_amount\n",
        "\n",
        "    return np.mean(V[:, 0])\n",
        "\n",
        "\n",
        "n_paths = 1000000\n",
        "pv_antithetic = estimate_pv_antithetic(\n",
        "    n_paths=1000000,\n",
        "    S0=S0,\n",
        "    q=q,\n",
        "    sigma=sigma,\n",
        "    corr_matrix=corr_matrix_2y,\n",
        "    r=r,\n",
        "    principal=1000.0,\n",
        "    coupon_amount=5.833,\n",
        "    coupon_barrier=0.7,\n",
        "    obs_dates=obs_dates,\n",
        "    redemption_dates=redemption_dates,\n",
        "    maturity_date=maturity_date,\n",
        "    pricing_date=pricing_date\n",
        ")\n",
        "\n",
        "print(f\"Estimated Note Value: ${pv_antithetic:.2f}\")"
      ]
    }
  ],
  "metadata": {
    "colab": {
      "provenance": []
    },
    "kernelspec": {
      "display_name": "Python 3",
      "name": "python3"
    },
    "language_info": {
      "name": "python"
    }
  },
  "nbformat": 4,
  "nbformat_minor": 0
}